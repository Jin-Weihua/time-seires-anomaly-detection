{
 "cells": [
  {
   "cell_type": "code",
   "execution_count": 1,
   "metadata": {},
   "outputs": [
    {
     "name": "stdout",
     "output_type": "stream",
     "text": [
      "Python version: 3.6.5 |Anaconda, Inc.| (default, Apr 26 2018, 08:42:37) \n",
      "[GCC 4.2.1 Compatible Clang 4.0.1 (tags/RELEASE_401/final)]\n",
      "pandas version: 0.23.0\n",
      "matplotlib version: 2.2.2\n",
      "NumPy version: 1.15.4\n",
      "-------------------------\n"
     ]
    }
   ],
   "source": [
    "import sys\n",
    "print(\"Python version: {}\".format(sys.version))\n",
    "\n",
    "import plotly\n",
    "plotly.tools.set_credentials_file(username='wh.jin', api_key='DADs4nY8rboe9LuL6Iuz')\n",
    "import plotly.plotly as py\n",
    "import plotly.graph_objs as go\n",
    "\n",
    "# collection of functions for data processing and analysis\n",
    "# modeled after R dataframes with SQL like features\n",
    "import pandas as pd\n",
    "print(\"pandas version: {}\".format(pd.__version__))\n",
    "\n",
    "# collection of functions for scientific and publication-ready visualization\n",
    "import matplotlib\n",
    "import matplotlib as mpl\n",
    "import matplotlib.pyplot as plt\n",
    "import matplotlib.dates as mdate\n",
    "from matplotlib.font_manager import FontProperties\n",
    "print(\"matplotlib version: {}\".format(matplotlib.__version__))\n",
    "\n",
    "# foundational package for scientific computing\n",
    "import numpy as np\n",
    "print(\"NumPy version: {}\".format(np.__version__))\n",
    "from sklearn.preprocessing import MinMaxScaler\n",
    "from sklearn.cluster import KMeans\n",
    "# ignore warnings\n",
    "# import warnings\n",
    "# warnings.filterwarnings('ignore')\n",
    "print('-' * 25)\n",
    "\n",
    "font = FontProperties(fname='/Library/Fonts/Songti.ttc')\n",
    "mpl.rcParams['axes.unicode_minus'] = False  # 用来正常显示负号\n",
    "mpl.rcParams['axes.titlesize'] = 6\n",
    "mpl.rc('xtick', labelsize=6)  # 设置坐标轴刻度显示大小\n",
    "mpl.rc('ytick', labelsize=6)\n",
    "font_size = 1"
   ]
  },
  {
   "cell_type": "code",
   "execution_count": 57,
   "metadata": {},
   "outputs": [
    {
     "name": "stderr",
     "output_type": "stream",
     "text": [
      "/anaconda3/lib/python3.6/site-packages/ipykernel_launcher.py:9: FutureWarning:\n",
      "\n",
      "Method .as_matrix will be removed in a future version. Use .values instead.\n",
      "\n",
      "/anaconda3/lib/python3.6/site-packages/ipykernel_launcher.py:19: FutureWarning:\n",
      "\n",
      "Method .as_matrix will be removed in a future version. Use .values instead.\n",
      "\n"
     ]
    }
   ],
   "source": [
    "dateparser= lambda x: pd.datetime.strptime(x, '%Y-%m-%d %H:%M:%S')\n",
    "data_rolling = pd.read_csv(\n",
    "    'data/data_rolling.csv',\n",
    "    sep=',',\n",
    "    index_col=0,\n",
    "    encoding='utf-8',\n",
    "    parse_dates=True,\n",
    "    date_parser=dateparser)\n",
    "dataset_rolling = data_rolling.as_matrix()\n",
    "\n",
    "dateparser= lambda x: pd.datetime.strptime(x, '%Y-%m-%d %H:%M:%S')\n",
    "data_basic = pd.read_csv(\n",
    "    'result/autoencoder2/autoencoder2-prd.csv',\n",
    "    sep=',',\n",
    "    index_col=0,\n",
    "    encoding='utf-8',\n",
    "    parse_dates=True,\n",
    "    date_parser=dateparser)\n",
    "dataset_basic = data_basic.as_matrix()\n",
    "\n",
    "# dateparser = lambda x: pd.datetime.strptime(x, '%Y-%m-%d %H:%M:%S')\n",
    "# data_SAE = pd.read_csv(\n",
    "#     'result/autoencoder1/autoencoder1-prd.csv',\n",
    "#     sep=',',\n",
    "#     index_col=0,\n",
    "#     encoding='utf-8',\n",
    "#     parse_dates=True,\n",
    "#     date_parser=dateparser)\n",
    "# dataset_basic = data_SAE.as_matrix()\n",
    "\n",
    "# dateparser = lambda x: pd.datetime.strptime(x, '%Y-%m-%d %H:%M:%S')\n",
    "# data_DAE = pd.read_csv(\n",
    "#     'result/autoencoder6/autoencoder6-prd-180.csv',\n",
    "#     sep=',',\n",
    "#     index_col=0,\n",
    "#     encoding='utf-8',\n",
    "#     parse_dates=True,\n",
    "#     date_parser=dateparser)\n",
    "# dataset_basic = data_DAE.as_matrix()\n",
    "\n",
    "# dateparser = lambda x: pd.datetime.strptime(x, '%Y-%m-%d %H:%M:%S')\n",
    "# data_DAES = pd.read_csv(\n",
    "#     'result/autoencoder7/autoencoder7-prd7-249.csv',\n",
    "#     sep=',',\n",
    "#     index_col=0,\n",
    "#     encoding='utf-8',\n",
    "#     parse_dates=True,\n",
    "#     date_parser=dateparser)\n",
    "# dataset_basic = data_DAES.as_matrix()"
   ]
  },
  {
   "cell_type": "code",
   "execution_count": 58,
   "metadata": {},
   "outputs": [],
   "source": [
    "index = data_SAE.index\n",
    "dist = np.linalg.norm(dataset_basic - dataset_rolling, axis=-1).reshape(-1,1)\n",
    "data_dist = pd.DataFrame(dist, index=index, columns=['norm'])\n",
    "\n",
    "0.2757913761303892\n",
    "\n",
    "# clf = KMeans(n_clusters=2)\n",
    "# data_dist['label'] = clf.fit_predict(data_dist[['norm']])\n",
    "data_dist['label'] = data_dist['norm'].apply(lambda x: 1 if x>0.2757913761303892 else 0)"
   ]
  },
  {
   "cell_type": "code",
   "execution_count": 59,
   "metadata": {},
   "outputs": [
    {
     "name": "stdout",
     "output_type": "stream",
     "text": [
      "正常点个数--95938\n",
      "异常点个数--776\n",
      "0.2761343808981811\n"
     ]
    },
    {
     "data": {
      "text/plain": [
       "<matplotlib.axes._subplots.AxesSubplot at 0x1a2424a470>"
      ]
     },
     "execution_count": 59,
     "metadata": {},
     "output_type": "execute_result"
    },
    {
     "data": {
      "image/png": "[encoded data removed]",
      "text/plain": [
       "<Figure size 432x288 with 1 Axes>"
      ]
     },
     "metadata": {},
     "output_type": "display_data"
    }
   ],
   "source": [
    "data_dist2 = data_dist\n",
    "#print(data_dist2['label'].apply(lambda x: 1 if x==1 else 0).sum())\n",
    "print('正常点个数--{}'.format(data_dist2['label'].apply(lambda x: 1 if x==0 else 0).sum()))\n",
    "print('异常点个数--{}'.format(data_dist2['label'].apply(lambda x: 1 if x==1 else 0).sum()))\n",
    "\n",
    "print(data_dist2[data_dist2['label']==1]['norm'].min())\n",
    "\n",
    "ax = data_dist2[data_dist2['label']==0].plot.scatter(x='norm', y='label', s=50, color='white', edgecolor='black')\n",
    "data_dist2[data_dist2['label']==1].plot.scatter(x='norm', y='label', s=50, color='white', ax=ax, edgecolor='red')"
   ]
  },
  {
   "cell_type": "code",
   "execution_count": 29,
   "metadata": {},
   "outputs": [
    {
     "name": "stdout",
     "output_type": "stream",
     "text": [
      "[[0.04626809]\n",
      " [0.50239208]]\n"
     ]
    },
    {
     "data": {
      "text/plain": [
       "<matplotlib.collections.PathCollection at 0x1a211763c8>"
      ]
     },
     "execution_count": 29,
     "metadata": {},
     "output_type": "execute_result"
    },
    {
     "data": {
      "image/png": "[encoded data removed]",
      "text/plain": [
       "<Figure size 432x288 with 1 Axes>"
      ]
     },
     "metadata": {},
     "output_type": "display_data"
    }
   ],
   "source": [
    "print(clf.cluster_centers_)\n",
    "plt.scatter(clf.cluster_centers_.ravel(), [0.5]*len(clf.cluster_centers_), s=100, color='green', marker='*')"
   ]
  },
  {
   "cell_type": "code",
   "execution_count": null,
   "metadata": {},
   "outputs": [],
   "source": []
  }
 ],
 "metadata": {
  "kernelspec": {
   "display_name": "Python 3",
   "language": "python",
   "name": "python3"
  },
  "language_info": {
   "codemirror_mode": {
    "name": "ipython",
    "version": 3
   },
   "file_extension": ".py",
   "mimetype": "text/x-python",
   "name": "python",
   "nbconvert_exporter": "python",
   "pygments_lexer": "ipython3",
   "version": "3.6.5"
  }
 },
 "nbformat": 4,
 "nbformat_minor": 2
}
